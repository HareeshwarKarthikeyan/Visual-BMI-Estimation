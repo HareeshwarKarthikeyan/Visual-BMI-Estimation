{
  "nbformat": 4,
  "nbformat_minor": 0,
  "metadata": {
    "colab": {
      "name": "BMI Estimator Model.ipynb",
      "provenance": [],
      "collapsed_sections": []
    },
    "kernelspec": {
      "name": "python3",
      "display_name": "Python 3"
    }
  },
  "cells": [
    {
      "cell_type": "code",
      "metadata": {
        "id": "B1vQfoiXjMyq",
        "outputId": "a0710c4d-b23c-4a68-e518-685a0066d575",
        "colab": {
          "base_uri": "https://localhost:8080/",
          "height": 34
        }
      },
      "source": [
        "# Mounting the drive to access files\n",
        "from google.colab import drive\n",
        "drive.mount('/gdrive',force_remount=True)"
      ],
      "execution_count": null,
      "outputs": [
        {
          "output_type": "stream",
          "text": [
            "Mounted at /gdrive\n"
          ],
          "name": "stdout"
        }
      ]
    },
    {
      "cell_type": "code",
      "metadata": {
        "id": "eXMF4FUfjeuh"
      },
      "source": [
        "# Importation of necessary libraries\n",
        "import numpy as np\n",
        "import matplotlib.pyplot as plt\n",
        "import keras\n",
        "from keras.models import Sequential\n",
        "from keras.optimizers import Adam\n",
        "from keras.layers import Conv2D, MaxPooling2D, Dropout, Flatten, Dense\n",
        "import pandas as pd\n",
        "import random"
      ],
      "execution_count": null,
      "outputs": []
    },
    {
      "cell_type": "code",
      "metadata": {
        "id": "RIG2KU1ZjeyK"
      },
      "source": [
        "# Loading the BMI data file (Target Attribute)\n",
        "bmiData = pd.read_csv(\"/gdrive/My Drive/vip_attribute/annotation.csv\")"
      ],
      "execution_count": null,
      "outputs": []
    },
    {
      "cell_type": "code",
      "metadata": {
        "id": "gCH1z92HkCq6"
      },
      "source": [
        "# Loading the embeddings data vector (Independent image data attributes)\n",
        "imgData = pd.read_csv(\"/gdrive/My Drive/vip_attribute/embeddings.csv\")"
      ],
      "execution_count": null,
      "outputs": []
    },
    {
      "cell_type": "code",
      "metadata": {
        "id": "c19j5uWIje4f",
        "outputId": "d6c20397-36e4-4363-b8b8-ff65abcf1b70",
        "colab": {
          "base_uri": "https://localhost:8080/",
          "height": 34
        }
      },
      "source": [
        "# 1026 images with 2622 embedding data points\n",
        "imgData.shape"
      ],
      "execution_count": null,
      "outputs": [
        {
          "output_type": "execute_result",
          "data": {
            "text/plain": [
              "(1026, 2622)"
            ]
          },
          "metadata": {
            "tags": []
          },
          "execution_count": 5
        }
      ]
    },
    {
      "cell_type": "code",
      "metadata": {
        "id": "V6ljGV_hje9y",
        "outputId": "6c70d761-783e-4db7-f417-c457feb56006",
        "colab": {
          "base_uri": "https://localhost:8080/",
          "height": 34
        }
      },
      "source": [
        "# bmi value for 1026 images\n",
        "bmiData.shape"
      ],
      "execution_count": null,
      "outputs": [
        {
          "output_type": "execute_result",
          "data": {
            "text/plain": [
              "(1026, 4)"
            ]
          },
          "metadata": {
            "tags": []
          },
          "execution_count": 6
        }
      ]
    },
    {
      "cell_type": "code",
      "metadata": {
        "id": "VkMPzyaZjfF-"
      },
      "source": [
        "Y = bmiData['BMI']\n",
        "X = imgData"
      ],
      "execution_count": null,
      "outputs": []
    },
    {
      "cell_type": "code",
      "metadata": {
        "id": "YFqIBs3us6Fr",
        "outputId": "ba0e7f49-7075-46fe-de95-c6a49c380c14",
        "colab": {
          "base_uri": "https://localhost:8080/",
          "height": 102
        }
      },
      "source": [
        "# Rounding to single decimal float values\n",
        "for i in range(len(Y)):\n",
        "  Y[i] = round(Y[i],1)"
      ],
      "execution_count": null,
      "outputs": [
        {
          "output_type": "stream",
          "text": [
            "/usr/local/lib/python3.6/dist-packages/ipykernel_launcher.py:3: SettingWithCopyWarning: \n",
            "A value is trying to be set on a copy of a slice from a DataFrame\n",
            "\n",
            "See the caveats in the documentation: https://pandas.pydata.org/pandas-docs/stable/user_guide/indexing.html#returning-a-view-versus-a-copy\n",
            "  This is separate from the ipykernel package so we can avoid doing imports until\n"
          ],
          "name": "stderr"
        }
      ]
    },
    {
      "cell_type": "code",
      "metadata": {
        "id": "L9qNoaMAjfno",
        "outputId": "b17951b2-d3e7-4d44-cb31-c78246c1595c",
        "colab": {
          "base_uri": "https://localhost:8080/",
          "height": 51
        }
      },
      "source": [
        "# Splitting to training and validation data\n",
        "from sklearn.model_selection import train_test_split\n",
        "X_train,X_val,Y_train,Y_val = train_test_split(X,Y, test_size = 0.3,random_state = 7)\n",
        "print(len(X_train))\n",
        "print(len(X_val))"
      ],
      "execution_count": null,
      "outputs": [
        {
          "output_type": "stream",
          "text": [
            "718\n",
            "308\n"
          ],
          "name": "stdout"
        }
      ]
    },
    {
      "cell_type": "code",
      "metadata": {
        "id": "BcZsV17FjfkT",
        "outputId": "9c10fc42-2933-4dfe-e2eb-c82f40378633",
        "colab": {
          "base_uri": "https://localhost:8080/",
          "height": 298
        }
      },
      "source": [
        "# Visualising the distribution of the data in the training and validation data sets\n",
        "num_bins = 100\n",
        "fig,axes = plt.subplots(1,2,figsize=(12,4))\n",
        "axes[0].hist(Y_train,bins = num_bins,width = 0.5,color = 'blue')\n",
        "axes[1].hist(Y_val,bins = num_bins,width = 0.5,color = 'red')\n",
        "axes[0].set_title('Training Set')\n",
        "axes[1].set_title('Validation Set')"
      ],
      "execution_count": null,
      "outputs": [
        {
          "output_type": "execute_result",
          "data": {
            "text/plain": [
              "Text(0.5, 1.0, 'Validation Set')"
            ]
          },
          "metadata": {
            "tags": []
          },
          "execution_count": 157
        },
        {
          "output_type": "display_data",
          "data": {
            "image/png": "[encoded data removed]",
            "text/plain": [
              "<Figure size 864x288 with 2 Axes>"
            ]
          },
          "metadata": {
            "tags": [],
            "needs_background": "light"
          }
        }
      ]
    },
    {
      "cell_type": "code",
      "metadata": {
        "id": "HOhBtMYIjfgU"
      },
      "source": [
        "# Deep Learning Model\n",
        "def estimator_model():\n",
        "\n",
        "  model = Sequential()\n",
        "  \n",
        "  # with relu a problem might occur called dead relu that feeds only 0 values to the next layer\n",
        "  # enough number of dead relus will make the loss stagnant and will not decrease with epochs\n",
        "  #  using elu activation which has a non zero gradient in the negative section instead of 0 in relu\n",
        "\n",
        "  # when there were only two dropout layers\n",
        "  # very low difference of 0.02 between the training and the validation loss\n",
        "  # hence a decently good model is achieved\n",
        "  # however the very low value of the loss means overfitting hence we have added more dropout layers  \n",
        "  # but remove dropout layers when training loss is significantly greater than validation loss\n",
        "\n",
        "\n",
        "  model.add(Dense(1024, activation ='elu', input_dim=2622))\n",
        "\n",
        "  model.add(Dense(128, activation ='elu'))  \n",
        "  model.add(Dense(128, activation ='elu'))  \n",
        "  model.add(Dropout(0.3))\n",
        "\n",
        "  model.add(Dense(64, activation ='elu'))\n",
        "  model.add(Dense(64, activation ='elu'))  \n",
        "  model.add(Dropout(0.1))\n",
        "\n",
        "  model.add(Dense(16, activation ='elu'))\n",
        "\n",
        "  model.add(Dense(1))\n",
        "  \n",
        "  optimizer= Adam(lr=1e-4)\n",
        "  \n",
        "  model.compile(loss='mse', optimizer=optimizer)\n",
        "  \n",
        "  return model"
      ],
      "execution_count": null,
      "outputs": []
    },
    {
      "cell_type": "code",
      "metadata": {
        "id": "U22T5SE_jfc7",
        "outputId": "3d70578c-4c89-4e3a-b619-fcc981bdb40c",
        "colab": {
          "base_uri": "https://localhost:8080/",
          "height": 476
        }
      },
      "source": [
        "# Model details\n",
        "model = estimator_model()\n",
        "print(model.summary())"
      ],
      "execution_count": null,
      "outputs": [
        {
          "output_type": "stream",
          "text": [
            "Model: \"sequential\"\n",
            "_________________________________________________________________\n",
            "Layer (type)                 Output Shape              Param #   \n",
            "=================================================================\n",
            "dense (Dense)                (None, 1024)              2685952   \n",
            "_________________________________________________________________\n",
            "dense_1 (Dense)              (None, 128)               131200    \n",
            "_________________________________________________________________\n",
            "dense_2 (Dense)              (None, 128)               16512     \n",
            "_________________________________________________________________\n",
            "dropout (Dropout)            (None, 128)               0         \n",
            "_________________________________________________________________\n",
            "dense_3 (Dense)              (None, 64)                8256      \n",
            "_________________________________________________________________\n",
            "dense_4 (Dense)              (None, 64)                4160      \n",
            "_________________________________________________________________\n",
            "dropout_1 (Dropout)          (None, 64)                0         \n",
            "_________________________________________________________________\n",
            "dense_5 (Dense)              (None, 16)                1040      \n",
            "_________________________________________________________________\n",
            "dense_6 (Dense)              (None, 1)                 17        \n",
            "=================================================================\n",
            "Total params: 2,847,137\n",
            "Trainable params: 2,847,137\n",
            "Non-trainable params: 0\n",
            "_________________________________________________________________\n",
            "None\n"
          ],
          "name": "stdout"
        }
      ]
    },
    {
      "cell_type": "code",
      "metadata": {
        "id": "pEo8ejodjfZM",
        "outputId": "d6abf66e-93b4-41be-e4c7-9f8fd991e6db",
        "colab": {
          "base_uri": "https://localhost:8080/",
          "height": 1000
        }
      },
      "source": [
        "# Training and Validation\n",
        "history = model.fit(x=X_train, y=Y_train, batch_size=10, epochs=100, verbose=1, callbacks=None, \n",
        "                    validation_split=0.1, validation_data=(X_val,Y_val), shuffle=True,\n",
        "                    initial_epoch=0, steps_per_epoch=10, validation_batch_size=10, \n",
        "                    )"
      ],
      "execution_count": null,
      "outputs": [
        {
          "output_type": "stream",
          "text": [
            "Epoch 1/100\n",
            "10/10 [==============================] - 0s 36ms/step - loss: 322.0273 - val_loss: 141.6158\n",
            "Epoch 2/100\n",
            "10/10 [==============================] - 0s 16ms/step - loss: 86.1968 - val_loss: 27.8768\n",
            "Epoch 3/100\n",
            "10/10 [==============================] - 0s 17ms/step - loss: 66.9494 - val_loss: 30.5327\n",
            "Epoch 4/100\n",
            "10/10 [==============================] - 0s 17ms/step - loss: 60.2988 - val_loss: 20.2319\n",
            "Epoch 5/100\n",
            "10/10 [==============================] - 0s 17ms/step - loss: 37.8084 - val_loss: 22.5315\n",
            "Epoch 6/100\n",
            "10/10 [==============================] - 0s 16ms/step - loss: 39.3180 - val_loss: 19.3010\n",
            "Epoch 7/100\n",
            "10/10 [==============================] - 0s 16ms/step - loss: 41.0702 - val_loss: 19.0527\n",
            "Epoch 8/100\n",
            "10/10 [==============================] - 0s 16ms/step - loss: 51.2695 - val_loss: 18.7905\n",
            "Epoch 9/100\n",
            "10/10 [==============================] - 0s 16ms/step - loss: 28.0218 - val_loss: 17.5918\n",
            "Epoch 10/100\n",
            "10/10 [==============================] - 0s 16ms/step - loss: 44.7222 - val_loss: 17.6517\n",
            "Epoch 11/100\n",
            "10/10 [==============================] - 0s 16ms/step - loss: 36.9548 - val_loss: 17.9595\n",
            "Epoch 12/100\n",
            "10/10 [==============================] - 0s 18ms/step - loss: 28.6748 - val_loss: 17.2957\n",
            "Epoch 13/100\n",
            "10/10 [==============================] - 0s 16ms/step - loss: 32.0134 - val_loss: 16.5453\n",
            "Epoch 14/100\n",
            "10/10 [==============================] - 0s 17ms/step - loss: 22.1537 - val_loss: 19.8489\n",
            "Epoch 15/100\n",
            "10/10 [==============================] - 0s 17ms/step - loss: 44.9852 - val_loss: 16.7604\n",
            "Epoch 16/100\n",
            "10/10 [==============================] - 0s 16ms/step - loss: 24.5594 - val_loss: 16.8630\n",
            "Epoch 17/100\n",
            "10/10 [==============================] - 0s 16ms/step - loss: 33.0496 - val_loss: 16.2407\n",
            "Epoch 18/100\n",
            "10/10 [==============================] - 0s 15ms/step - loss: 25.8689 - val_loss: 16.4936\n",
            "Epoch 19/100\n",
            "10/10 [==============================] - 0s 16ms/step - loss: 23.4125 - val_loss: 15.6624\n",
            "Epoch 20/100\n",
            "10/10 [==============================] - 0s 17ms/step - loss: 22.6726 - val_loss: 15.5683\n",
            "Epoch 21/100\n",
            "10/10 [==============================] - 0s 18ms/step - loss: 24.2445 - val_loss: 15.1233\n",
            "Epoch 22/100\n",
            "10/10 [==============================] - 0s 16ms/step - loss: 20.0995 - val_loss: 15.8669\n",
            "Epoch 23/100\n",
            "10/10 [==============================] - 0s 16ms/step - loss: 20.1826 - val_loss: 15.9196\n",
            "Epoch 24/100\n",
            "10/10 [==============================] - 0s 17ms/step - loss: 32.1775 - val_loss: 16.3833\n",
            "Epoch 25/100\n",
            "10/10 [==============================] - 0s 19ms/step - loss: 35.2941 - val_loss: 15.9018\n",
            "Epoch 26/100\n",
            "10/10 [==============================] - 0s 17ms/step - loss: 24.7083 - val_loss: 20.9115\n",
            "Epoch 27/100\n",
            "10/10 [==============================] - 0s 17ms/step - loss: 33.7466 - val_loss: 16.5713\n",
            "Epoch 28/100\n",
            "10/10 [==============================] - 0s 16ms/step - loss: 21.9780 - val_loss: 16.5439\n",
            "Epoch 29/100\n",
            "10/10 [==============================] - 0s 16ms/step - loss: 23.5986 - val_loss: 22.7846\n",
            "Epoch 30/100\n",
            "10/10 [==============================] - 0s 17ms/step - loss: 20.3438 - val_loss: 14.4878\n",
            "Epoch 31/100\n",
            "10/10 [==============================] - 0s 17ms/step - loss: 25.0419 - val_loss: 16.5574\n",
            "Epoch 32/100\n",
            "10/10 [==============================] - 0s 17ms/step - loss: 21.1955 - val_loss: 15.7528\n",
            "Epoch 33/100\n",
            "10/10 [==============================] - 0s 16ms/step - loss: 16.3306 - val_loss: 16.3629\n",
            "Epoch 34/100\n",
            "10/10 [==============================] - 0s 16ms/step - loss: 11.8347 - val_loss: 16.2609\n",
            "Epoch 35/100\n",
            "10/10 [==============================] - 0s 16ms/step - loss: 21.4615 - val_loss: 15.3338\n",
            "Epoch 36/100\n",
            "10/10 [==============================] - 0s 16ms/step - loss: 28.3836 - val_loss: 14.7672\n",
            "Epoch 37/100\n",
            "10/10 [==============================] - 0s 17ms/step - loss: 22.7981 - val_loss: 15.2652\n",
            "Epoch 38/100\n",
            "10/10 [==============================] - 0s 16ms/step - loss: 14.5540 - val_loss: 15.8973\n",
            "Epoch 39/100\n",
            "10/10 [==============================] - 0s 16ms/step - loss: 25.4617 - val_loss: 17.1842\n",
            "Epoch 40/100\n",
            "10/10 [==============================] - 0s 17ms/step - loss: 12.9375 - val_loss: 15.6096\n",
            "Epoch 41/100\n",
            "10/10 [==============================] - 0s 16ms/step - loss: 28.2103 - val_loss: 17.4379\n",
            "Epoch 42/100\n",
            "10/10 [==============================] - 0s 16ms/step - loss: 19.9651 - val_loss: 15.4745\n",
            "Epoch 43/100\n",
            "10/10 [==============================] - 0s 16ms/step - loss: 13.3277 - val_loss: 15.2116\n",
            "Epoch 44/100\n",
            "10/10 [==============================] - 0s 16ms/step - loss: 23.0133 - val_loss: 13.9441\n",
            "Epoch 45/100\n",
            "10/10 [==============================] - 0s 15ms/step - loss: 17.7643 - val_loss: 17.4329\n",
            "Epoch 46/100\n",
            "10/10 [==============================] - 0s 16ms/step - loss: 15.5258 - val_loss: 15.7657\n",
            "Epoch 47/100\n",
            "10/10 [==============================] - 0s 16ms/step - loss: 16.8561 - val_loss: 17.1193\n",
            "Epoch 48/100\n",
            "10/10 [==============================] - 0s 16ms/step - loss: 11.0012 - val_loss: 14.3729\n",
            "Epoch 49/100\n",
            "10/10 [==============================] - 0s 18ms/step - loss: 15.6483 - val_loss: 14.9662\n",
            "Epoch 50/100\n",
            "10/10 [==============================] - 0s 16ms/step - loss: 17.4878 - val_loss: 15.7003\n",
            "Epoch 51/100\n",
            "10/10 [==============================] - 0s 17ms/step - loss: 14.0190 - val_loss: 17.8603\n",
            "Epoch 52/100\n",
            "10/10 [==============================] - 0s 16ms/step - loss: 27.9937 - val_loss: 16.9172\n",
            "Epoch 53/100\n",
            "10/10 [==============================] - 0s 16ms/step - loss: 16.7740 - val_loss: 18.9732\n",
            "Epoch 54/100\n",
            "10/10 [==============================] - 0s 18ms/step - loss: 22.3583 - val_loss: 13.4665\n",
            "Epoch 55/100\n",
            "10/10 [==============================] - 0s 17ms/step - loss: 18.2711 - val_loss: 13.9387\n",
            "Epoch 56/100\n",
            "10/10 [==============================] - 0s 15ms/step - loss: 14.9739 - val_loss: 15.6315\n",
            "Epoch 57/100\n",
            "10/10 [==============================] - 0s 15ms/step - loss: 23.2797 - val_loss: 12.5883\n",
            "Epoch 58/100\n",
            "10/10 [==============================] - 0s 15ms/step - loss: 15.1953 - val_loss: 14.0679\n",
            "Epoch 59/100\n",
            "10/10 [==============================] - 0s 15ms/step - loss: 12.2576 - val_loss: 13.4148\n",
            "Epoch 60/100\n",
            "10/10 [==============================] - 0s 16ms/step - loss: 18.8274 - val_loss: 15.0875\n",
            "Epoch 61/100\n",
            "10/10 [==============================] - 0s 16ms/step - loss: 11.1567 - val_loss: 16.4400\n",
            "Epoch 62/100\n",
            "10/10 [==============================] - 0s 16ms/step - loss: 16.3128 - val_loss: 13.2785\n",
            "Epoch 63/100\n",
            "10/10 [==============================] - 0s 16ms/step - loss: 12.7245 - val_loss: 14.7264\n",
            "Epoch 64/100\n",
            "10/10 [==============================] - 0s 17ms/step - loss: 16.0600 - val_loss: 14.5016\n",
            "Epoch 65/100\n",
            "10/10 [==============================] - 0s 16ms/step - loss: 12.4954 - val_loss: 14.3636\n",
            "Epoch 66/100\n",
            "10/10 [==============================] - 0s 17ms/step - loss: 17.0171 - val_loss: 16.7731\n",
            "Epoch 67/100\n",
            "10/10 [==============================] - 0s 16ms/step - loss: 13.4101 - val_loss: 13.6360\n",
            "Epoch 68/100\n",
            "10/10 [==============================] - 0s 15ms/step - loss: 9.5589 - val_loss: 14.5821\n",
            "Epoch 69/100\n",
            "10/10 [==============================] - 0s 16ms/step - loss: 7.6303 - val_loss: 13.2595\n",
            "Epoch 70/100\n",
            "10/10 [==============================] - 0s 16ms/step - loss: 12.2325 - val_loss: 14.7613\n",
            "Epoch 71/100\n",
            "10/10 [==============================] - 0s 16ms/step - loss: 14.7948 - val_loss: 14.8334\n",
            "Epoch 72/100\n",
            "10/10 [==============================] - 0s 16ms/step - loss: 8.2680 - val_loss: 17.2165\n",
            "Epoch 73/100\n",
            "10/10 [==============================] - 0s 15ms/step - loss: 12.4220 - val_loss: 14.6390\n",
            "Epoch 74/100\n",
            "10/10 [==============================] - 0s 15ms/step - loss: 9.2412 - val_loss: 15.6549\n",
            "Epoch 75/100\n",
            "10/10 [==============================] - 0s 16ms/step - loss: 15.4806 - val_loss: 15.3014\n",
            "Epoch 76/100\n",
            "10/10 [==============================] - 0s 15ms/step - loss: 10.2407 - val_loss: 14.7331\n",
            "Epoch 77/100\n",
            "10/10 [==============================] - 0s 18ms/step - loss: 13.4274 - val_loss: 13.9266\n",
            "Epoch 78/100\n",
            "10/10 [==============================] - 0s 18ms/step - loss: 10.3721 - val_loss: 15.0693\n",
            "Epoch 79/100\n",
            "10/10 [==============================] - 0s 17ms/step - loss: 15.1982 - val_loss: 15.2223\n",
            "Epoch 80/100\n",
            "10/10 [==============================] - 0s 16ms/step - loss: 9.1443 - val_loss: 14.4956\n",
            "Epoch 81/100\n",
            "10/10 [==============================] - 0s 16ms/step - loss: 9.5718 - val_loss: 14.3234\n",
            "Epoch 82/100\n",
            "10/10 [==============================] - 0s 17ms/step - loss: 14.6965 - val_loss: 14.3029\n",
            "Epoch 83/100\n",
            "10/10 [==============================] - 0s 17ms/step - loss: 13.0498 - val_loss: 13.8679\n",
            "Epoch 84/100\n",
            "10/10 [==============================] - 0s 16ms/step - loss: 7.1325 - val_loss: 15.2210\n",
            "Epoch 85/100\n",
            "10/10 [==============================] - 0s 15ms/step - loss: 8.9986 - val_loss: 14.7238\n",
            "Epoch 86/100\n",
            "10/10 [==============================] - 0s 17ms/step - loss: 9.8673 - val_loss: 14.5872\n",
            "Epoch 87/100\n",
            "10/10 [==============================] - 0s 16ms/step - loss: 9.0098 - val_loss: 14.4894\n",
            "Epoch 88/100\n",
            "10/10 [==============================] - 0s 17ms/step - loss: 7.4693 - val_loss: 14.1635\n",
            "Epoch 89/100\n",
            "10/10 [==============================] - 0s 16ms/step - loss: 7.5280 - val_loss: 13.9414\n",
            "Epoch 90/100\n",
            "10/10 [==============================] - 0s 16ms/step - loss: 10.2246 - val_loss: 14.3389\n",
            "Epoch 91/100\n",
            "10/10 [==============================] - 0s 17ms/step - loss: 10.2567 - val_loss: 13.8166\n",
            "Epoch 92/100\n",
            "10/10 [==============================] - 0s 17ms/step - loss: 9.5658 - val_loss: 13.8520\n",
            "Epoch 93/100\n",
            "10/10 [==============================] - 0s 16ms/step - loss: 10.3874 - val_loss: 12.7119\n",
            "Epoch 94/100\n",
            "10/10 [==============================] - 0s 17ms/step - loss: 10.3902 - val_loss: 14.0634\n",
            "Epoch 95/100\n",
            "10/10 [==============================] - 0s 16ms/step - loss: 7.6472 - val_loss: 13.1790\n",
            "Epoch 96/100\n",
            "10/10 [==============================] - 0s 15ms/step - loss: 9.7685 - val_loss: 13.6284\n",
            "Epoch 97/100\n",
            "10/10 [==============================] - 0s 15ms/step - loss: 8.4356 - val_loss: 14.0543\n",
            "Epoch 98/100\n",
            "10/10 [==============================] - 0s 15ms/step - loss: 9.5853 - val_loss: 15.7250\n",
            "Epoch 99/100\n",
            "10/10 [==============================] - 0s 17ms/step - loss: 8.4409 - val_loss: 13.4637\n",
            "Epoch 100/100\n",
            "10/10 [==============================] - 0s 16ms/step - loss: 8.9357 - val_loss: 13.6503\n"
          ],
          "name": "stdout"
        }
      ]
    },
    {
      "cell_type": "code",
      "metadata": {
        "id": "DmVbt7UNjfXn",
        "outputId": "4ec3eeb8-05d3-4982-b1f8-9e0c759f2896",
        "colab": {
          "base_uri": "https://localhost:8080/",
          "height": 638
        }
      },
      "source": [
        "# Visualising the loss \n",
        "plt.figure(figsize=(20,10))\n",
        "plt.plot(history.history['loss'])\n",
        "plt.plot(history.history['val_loss'])\n",
        "plt.legend(['Training','Validation'])\n",
        "plt.title('Loss')\n",
        "plt.xlabel('epoch')\n"
      ],
      "execution_count": null,
      "outputs": [
        {
          "output_type": "execute_result",
          "data": {
            "text/plain": [
              "Text(0.5, 0, 'epoch')"
            ]
          },
          "metadata": {
            "tags": []
          },
          "execution_count": 223
        },
        {
          "output_type": "display_data",
          "data": {
            "image/png": "[encoded data removed]",
            "text/plain": [
              "<Figure size 1440x720 with 1 Axes>"
            ]
          },
          "metadata": {
            "tags": [],
            "needs_background": "light"
          }
        }
      ]
    },
    {
      "cell_type": "code",
      "metadata": {
        "id": "HfiHFqRbjfP-",
        "outputId": "acdd8cc9-96a4-4e5f-d3ec-8b8d9a0b61ba",
        "colab": {
          "base_uri": "https://localhost:8080/",
          "height": 1000
        }
      },
      "source": [
        "# Model trained on the whole data\n",
        "history = model.fit(x=X, y=Y, batch_size=10, epochs=100, verbose=1, callbacks=None, validation_split=0.3,\n",
        "                    steps_per_epoch=10, \n",
        "                    )"
      ],
      "execution_count": null,
      "outputs": [
        {
          "output_type": "stream",
          "text": [
            "Epoch 1/100\n",
            "10/10 [==============================] - 0s 37ms/step - loss: 2.9589 - val_loss: 5.2710\n",
            "Epoch 2/100\n",
            "10/10 [==============================] - 0s 23ms/step - loss: 3.2463 - val_loss: 4.5433\n",
            "Epoch 3/100\n",
            "10/10 [==============================] - 0s 24ms/step - loss: 2.5189 - val_loss: 4.2187\n",
            "Epoch 4/100\n",
            "10/10 [==============================] - 0s 26ms/step - loss: 3.6688 - val_loss: 6.3231\n",
            "Epoch 5/100\n",
            "10/10 [==============================] - 0s 24ms/step - loss: 3.8480 - val_loss: 6.4296\n",
            "Epoch 6/100\n",
            "10/10 [==============================] - 0s 26ms/step - loss: 3.7739 - val_loss: 7.8361\n",
            "Epoch 7/100\n",
            "10/10 [==============================] - 0s 24ms/step - loss: 3.6633 - val_loss: 4.5223\n",
            "Epoch 8/100\n",
            "10/10 [==============================] - 0s 26ms/step - loss: 2.6621 - val_loss: 4.9197\n",
            "Epoch 9/100\n",
            "10/10 [==============================] - 0s 23ms/step - loss: 4.5910 - val_loss: 5.8963\n",
            "Epoch 10/100\n",
            "10/10 [==============================] - 0s 24ms/step - loss: 2.4806 - val_loss: 6.9797\n",
            "Epoch 11/100\n",
            "10/10 [==============================] - 0s 24ms/step - loss: 2.7806 - val_loss: 6.9533\n",
            "Epoch 12/100\n",
            "10/10 [==============================] - 0s 25ms/step - loss: 2.1809 - val_loss: 5.3455\n",
            "Epoch 13/100\n",
            "10/10 [==============================] - 0s 24ms/step - loss: 2.4703 - val_loss: 5.7795\n",
            "Epoch 14/100\n",
            "10/10 [==============================] - 0s 25ms/step - loss: 3.0325 - val_loss: 6.0805\n",
            "Epoch 15/100\n",
            "10/10 [==============================] - 0s 23ms/step - loss: 2.2703 - val_loss: 5.7616\n",
            "Epoch 16/100\n",
            "10/10 [==============================] - 0s 26ms/step - loss: 2.4236 - val_loss: 5.8989\n",
            "Epoch 17/100\n",
            "10/10 [==============================] - 0s 24ms/step - loss: 3.0835 - val_loss: 6.5259\n",
            "Epoch 18/100\n",
            "10/10 [==============================] - 0s 24ms/step - loss: 3.4777 - val_loss: 4.2616\n",
            "Epoch 19/100\n",
            "10/10 [==============================] - 0s 24ms/step - loss: 2.4579 - val_loss: 9.3155\n",
            "Epoch 20/100\n",
            "10/10 [==============================] - 0s 24ms/step - loss: 3.2009 - val_loss: 5.2907\n",
            "Epoch 21/100\n",
            "10/10 [==============================] - 0s 23ms/step - loss: 2.6870 - val_loss: 5.7223\n",
            "Epoch 22/100\n",
            "10/10 [==============================] - 0s 25ms/step - loss: 4.4722 - val_loss: 5.6166\n",
            "Epoch 23/100\n",
            "10/10 [==============================] - 0s 25ms/step - loss: 5.5285 - val_loss: 6.9748\n",
            "Epoch 24/100\n",
            "10/10 [==============================] - 0s 24ms/step - loss: 2.4995 - val_loss: 6.8007\n",
            "Epoch 25/100\n",
            "10/10 [==============================] - 0s 24ms/step - loss: 1.7382 - val_loss: 7.8713\n",
            "Epoch 26/100\n",
            "10/10 [==============================] - 0s 24ms/step - loss: 2.7863 - val_loss: 4.8256\n",
            "Epoch 27/100\n",
            "10/10 [==============================] - 0s 24ms/step - loss: 3.5623 - val_loss: 5.1547\n",
            "Epoch 28/100\n",
            "10/10 [==============================] - 0s 24ms/step - loss: 7.8764 - val_loss: 6.5120\n",
            "Epoch 29/100\n",
            "10/10 [==============================] - 0s 25ms/step - loss: 3.0693 - val_loss: 5.8944\n",
            "Epoch 30/100\n",
            "10/10 [==============================] - 0s 24ms/step - loss: 2.8112 - val_loss: 7.8170\n",
            "Epoch 31/100\n",
            "10/10 [==============================] - 0s 25ms/step - loss: 2.7265 - val_loss: 5.7988\n",
            "Epoch 32/100\n",
            "10/10 [==============================] - 0s 24ms/step - loss: 2.8424 - val_loss: 6.7844\n",
            "Epoch 33/100\n",
            "10/10 [==============================] - 0s 24ms/step - loss: 2.6627 - val_loss: 4.9950\n",
            "Epoch 34/100\n",
            "10/10 [==============================] - 0s 24ms/step - loss: 2.8636 - val_loss: 4.2662\n",
            "Epoch 35/100\n",
            "10/10 [==============================] - 0s 26ms/step - loss: 2.2924 - val_loss: 4.4591\n",
            "Epoch 36/100\n",
            "10/10 [==============================] - 0s 25ms/step - loss: 3.0248 - val_loss: 6.0840\n",
            "Epoch 37/100\n",
            "10/10 [==============================] - 0s 24ms/step - loss: 5.1929 - val_loss: 6.8527\n",
            "Epoch 38/100\n",
            "10/10 [==============================] - 0s 23ms/step - loss: 3.9205 - val_loss: 4.7351\n",
            "Epoch 39/100\n",
            "10/10 [==============================] - 0s 25ms/step - loss: 2.5543 - val_loss: 5.9350\n",
            "Epoch 40/100\n",
            "10/10 [==============================] - 0s 26ms/step - loss: 2.2362 - val_loss: 7.2865\n",
            "Epoch 41/100\n",
            "10/10 [==============================] - 0s 24ms/step - loss: 3.2612 - val_loss: 4.9198\n",
            "Epoch 42/100\n",
            "10/10 [==============================] - 0s 24ms/step - loss: 4.2352 - val_loss: 9.3524\n",
            "Epoch 43/100\n",
            "10/10 [==============================] - 0s 25ms/step - loss: 3.6788 - val_loss: 5.2430\n",
            "Epoch 44/100\n",
            "10/10 [==============================] - 0s 24ms/step - loss: 6.2524 - val_loss: 5.4620\n",
            "Epoch 45/100\n",
            "10/10 [==============================] - 0s 24ms/step - loss: 2.3718 - val_loss: 6.5010\n",
            "Epoch 46/100\n",
            "10/10 [==============================] - 0s 24ms/step - loss: 4.3090 - val_loss: 6.2013\n",
            "Epoch 47/100\n",
            "10/10 [==============================] - 0s 25ms/step - loss: 2.9789 - val_loss: 6.9133\n",
            "Epoch 48/100\n",
            "10/10 [==============================] - 0s 23ms/step - loss: 3.4229 - val_loss: 6.7433\n",
            "Epoch 49/100\n",
            "10/10 [==============================] - 0s 23ms/step - loss: 4.7619 - val_loss: 5.7669\n",
            "Epoch 50/100\n",
            "10/10 [==============================] - 0s 24ms/step - loss: 3.5379 - val_loss: 8.0307\n",
            "Epoch 51/100\n",
            "10/10 [==============================] - 0s 25ms/step - loss: 3.4894 - val_loss: 5.3985\n",
            "Epoch 52/100\n",
            "10/10 [==============================] - 0s 25ms/step - loss: 2.9875 - val_loss: 6.0232\n",
            "Epoch 53/100\n",
            "10/10 [==============================] - 0s 22ms/step - loss: 4.1012 - val_loss: 6.4943\n",
            "Epoch 54/100\n",
            "10/10 [==============================] - 0s 27ms/step - loss: 2.5072 - val_loss: 7.2993\n",
            "Epoch 55/100\n",
            "10/10 [==============================] - 0s 25ms/step - loss: 2.8624 - val_loss: 5.4516\n",
            "Epoch 56/100\n",
            "10/10 [==============================] - 0s 24ms/step - loss: 3.8707 - val_loss: 5.0489\n",
            "Epoch 57/100\n",
            "10/10 [==============================] - 0s 25ms/step - loss: 2.2817 - val_loss: 5.9889\n",
            "Epoch 58/100\n",
            "10/10 [==============================] - 0s 27ms/step - loss: 2.5547 - val_loss: 5.5775\n",
            "Epoch 59/100\n",
            "10/10 [==============================] - 0s 24ms/step - loss: 3.3978 - val_loss: 6.3836\n",
            "Epoch 60/100\n",
            "10/10 [==============================] - 0s 25ms/step - loss: 1.5107 - val_loss: 5.4161\n",
            "Epoch 61/100\n",
            "10/10 [==============================] - 0s 25ms/step - loss: 3.0047 - val_loss: 6.6719\n",
            "Epoch 62/100\n",
            "10/10 [==============================] - 0s 26ms/step - loss: 3.6438 - val_loss: 4.8328\n",
            "Epoch 63/100\n",
            "10/10 [==============================] - 0s 23ms/step - loss: 3.2079 - val_loss: 6.0511\n",
            "Epoch 64/100\n",
            "10/10 [==============================] - 0s 24ms/step - loss: 2.9169 - val_loss: 4.6380\n",
            "Epoch 65/100\n",
            "10/10 [==============================] - 0s 25ms/step - loss: 2.8912 - val_loss: 5.4429\n",
            "Epoch 66/100\n",
            "10/10 [==============================] - 0s 26ms/step - loss: 2.7516 - val_loss: 7.3197\n",
            "Epoch 67/100\n",
            "10/10 [==============================] - 0s 25ms/step - loss: 2.2820 - val_loss: 6.4399\n",
            "Epoch 68/100\n",
            "10/10 [==============================] - 0s 26ms/step - loss: 2.7889 - val_loss: 6.2216\n",
            "Epoch 69/100\n",
            "10/10 [==============================] - 0s 26ms/step - loss: 2.4776 - val_loss: 6.6152\n",
            "Epoch 70/100\n",
            "10/10 [==============================] - 0s 24ms/step - loss: 2.6820 - val_loss: 6.1104\n",
            "Epoch 71/100\n",
            "10/10 [==============================] - 0s 23ms/step - loss: 2.4892 - val_loss: 6.0913\n",
            "Epoch 72/100\n",
            "10/10 [==============================] - 0s 23ms/step - loss: 3.4944 - val_loss: 6.1010\n",
            "Epoch 73/100\n",
            "10/10 [==============================] - 0s 26ms/step - loss: 1.9408 - val_loss: 8.8274\n",
            "Epoch 74/100\n",
            "10/10 [==============================] - 0s 25ms/step - loss: 3.4080 - val_loss: 7.5204\n",
            "Epoch 75/100\n",
            "10/10 [==============================] - 0s 23ms/step - loss: 1.7464 - val_loss: 5.8145\n",
            "Epoch 76/100\n",
            "10/10 [==============================] - 0s 24ms/step - loss: 2.5362 - val_loss: 6.7932\n",
            "Epoch 77/100\n",
            "10/10 [==============================] - 0s 24ms/step - loss: 2.5877 - val_loss: 4.6945\n",
            "Epoch 78/100\n",
            "10/10 [==============================] - 0s 24ms/step - loss: 2.9184 - val_loss: 7.1708\n",
            "Epoch 79/100\n",
            "10/10 [==============================] - 0s 25ms/step - loss: 3.1162 - val_loss: 6.5371\n",
            "Epoch 80/100\n",
            "10/10 [==============================] - 0s 27ms/step - loss: 2.5572 - val_loss: 7.5590\n",
            "Epoch 81/100\n",
            "10/10 [==============================] - 0s 25ms/step - loss: 1.8245 - val_loss: 6.7096\n",
            "Epoch 82/100\n",
            "10/10 [==============================] - 0s 25ms/step - loss: 1.7417 - val_loss: 8.4786\n",
            "Epoch 83/100\n",
            "10/10 [==============================] - 0s 25ms/step - loss: 2.7178 - val_loss: 9.2850\n",
            "Epoch 84/100\n",
            "10/10 [==============================] - 0s 26ms/step - loss: 3.0762 - val_loss: 5.2072\n",
            "Epoch 85/100\n",
            "10/10 [==============================] - 0s 24ms/step - loss: 3.1027 - val_loss: 4.5981\n",
            "Epoch 86/100\n",
            "10/10 [==============================] - 0s 24ms/step - loss: 2.5058 - val_loss: 6.1028\n",
            "Epoch 87/100\n",
            "10/10 [==============================] - 0s 23ms/step - loss: 3.1898 - val_loss: 5.0451\n",
            "Epoch 88/100\n",
            "10/10 [==============================] - 0s 25ms/step - loss: 7.9427 - val_loss: 8.7442\n",
            "Epoch 89/100\n",
            "10/10 [==============================] - 0s 24ms/step - loss: 3.3733 - val_loss: 8.0969\n",
            "Epoch 90/100\n",
            "10/10 [==============================] - 0s 25ms/step - loss: 2.5264 - val_loss: 5.7028\n",
            "Epoch 91/100\n",
            "10/10 [==============================] - 0s 26ms/step - loss: 2.3793 - val_loss: 5.9331\n",
            "Epoch 92/100\n",
            "10/10 [==============================] - 0s 26ms/step - loss: 2.6907 - val_loss: 5.9553\n",
            "Epoch 93/100\n",
            "10/10 [==============================] - 0s 25ms/step - loss: 2.5240 - val_loss: 7.4457\n",
            "Epoch 94/100\n",
            "10/10 [==============================] - 0s 23ms/step - loss: 2.3221 - val_loss: 5.4972\n",
            "Epoch 95/100\n",
            "10/10 [==============================] - 0s 24ms/step - loss: 2.0079 - val_loss: 6.1574\n",
            "Epoch 96/100\n",
            "10/10 [==============================] - 0s 27ms/step - loss: 2.3577 - val_loss: 10.1754\n",
            "Epoch 97/100\n",
            "10/10 [==============================] - 0s 24ms/step - loss: 2.5087 - val_loss: 7.0414\n",
            "Epoch 98/100\n",
            "10/10 [==============================] - 0s 24ms/step - loss: 2.2311 - val_loss: 6.1710\n",
            "Epoch 99/100\n",
            "10/10 [==============================] - 0s 25ms/step - loss: 1.7669 - val_loss: 7.1518\n",
            "Epoch 100/100\n",
            "10/10 [==============================] - 0s 25ms/step - loss: 2.0549 - val_loss: 7.6548\n"
          ],
          "name": "stdout"
        }
      ]
    },
    {
      "cell_type": "code",
      "metadata": {
        "id": "qED3BnyDjfNX"
      },
      "source": [
        ""
      ],
      "execution_count": null,
      "outputs": []
    },
    {
      "cell_type": "code",
      "metadata": {
        "id": "qzUnJgDsjfLH"
      },
      "source": [
        ""
      ],
      "execution_count": null,
      "outputs": []
    },
    {
      "cell_type": "code",
      "metadata": {
        "id": "MDv8NptxjfCk"
      },
      "source": [
        ""
      ],
      "execution_count": null,
      "outputs": []
    },
    {
      "cell_type": "code",
      "metadata": {
        "id": "I0Sq-lFBje70"
      },
      "source": [
        ""
      ],
      "execution_count": null,
      "outputs": []
    },
    {
      "cell_type": "code",
      "metadata": {
        "id": "puOPoz4Uje1z"
      },
      "source": [
        ""
      ],
      "execution_count": null,
      "outputs": []
    }
  ]
}